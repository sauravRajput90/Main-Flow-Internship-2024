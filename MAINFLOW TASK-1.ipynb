{
 "cells": [
  {
   "cell_type": "markdown",
   "id": "220e8527",
   "metadata": {},
   "source": [
    "   # TASK-1 \n",
    " \n",
    "# Python program to create a list, a dictionary, and a set. Perform basic operations like adding, removing, and modifying elements."
   ]
  },
  {
   "cell_type": "code",
   "execution_count": 39,
   "id": "b9f0cd10",
   "metadata": {},
   "outputs": [
    {
     "name": "stdout",
     "output_type": "stream",
     "text": [
      "Original list: [1, 2, 3, 4, 5, 6, 7]\n",
      "List after adding 8: [1, 2, 3, 4, 5, 6, 7, 8]\n",
      "List after removing 3: [1, 2, 4, 5, 6, 7, 8]\n",
      "List after modifying index 1: [1, 10, 4, 5, 6, 7, 8]\n",
      "Original dictionary: {'name': 'saurav', 'age': 23, 'city': 'Firozabad'}\n",
      "Dictionary after adding occupation: {'name': 'saurav', 'age': 23, 'city': 'Firozabad', 'occupation': 'Engineer'}\n",
      "Dictionary after removing age: {'name': 'saurav', 'city': 'Firozabad', 'occupation': 'Engineer'}\n",
      "Dictionary after modifying city: {'name': 'saurav', 'city': 'Agra', 'occupation': 'Engineer'}\n",
      "Original set: {1, 2, 3, 4, 5, 6, 7, 8}\n",
      "Set after adding 9: {1, 2, 3, 4, 5, 6, 7, 8, 9}\n",
      "Set after removing 3: {1, 2, 4, 5, 6, 7, 8, 9}\n"
     ]
    }
   ],
   "source": [
    " # Create a list\n",
    "my_list = [1, 2, 3, 4, 5, 6, 7]\n",
    "print(\"Original list:\", my_list)\n",
    "\n",
    "# Add an element to the list\n",
    "my_list.append(8)\n",
    "print(\"List after adding 8:\", my_list)\n",
    "\n",
    "# Remove an element from the list   \n",
    "my_list.remove(3)\n",
    "print(\"List after removing 3:\", my_list)\n",
    "\n",
    "# Modify an element in the list\n",
    "my_list[1] = 10\n",
    "print(\"List after modifying index 1:\", my_list)\n",
    "\n",
    "# Create a dictionary\n",
    "my_dict = {'name': 'saurav', 'age': 23, 'city': 'Firozabad'}\n",
    "print(\"Original dictionary:\", my_dict)\n",
    "\n",
    "# Add a key-value pair to the dictionary\n",
    "my_dict['occupation'] = 'Engineer'\n",
    "print(\"Dictionary after adding occupation:\", my_dict)\n",
    "\n",
    " # Remove a key-value pair from the dictionary\n",
    "del my_dict['age']\n",
    "print(\"Dictionary after removing age:\", my_dict)\n",
    "\n",
    "# Modify a value in the dictionary\n",
    "my_dict['city'] = 'Agra'\n",
    "print(\"Dictionary after modifying city:\", my_dict)\n",
    "\n",
    "# Create a set\n",
    "my_set = {1, 2, 3, 4, 5, 6, 7, 8}\n",
    "print(\"Original set:\", my_set)\n",
    "\n",
    " # Add an element to the set\n",
    "my_set.add(9)\n",
    "print(\"Set after adding 9:\", my_set)\n",
    "\n",
    "# Remove an element from the set\n",
    "my_set.remove(3)\n",
    "print(\"Set after removing 3:\", my_set)"
   ]
  },
  {
   "cell_type": "code",
   "execution_count": 23,
   "id": "3fc0484d",
   "metadata": {
    "scrolled": true
   },
   "outputs": [
    {
     "name": "stdout",
     "output_type": "stream",
     "text": [
      "List after adding 8: [1, 2, 4, 5, 6, 7, 8, 8]\n"
     ]
    }
   ],
   "source": []
  },
  {
   "cell_type": "code",
   "execution_count": 25,
   "id": "b19a7818",
   "metadata": {},
   "outputs": [
    {
     "name": "stdout",
     "output_type": "stream",
     "text": [
      "List after removing 3: [1, 2, 4, 5, 6, 7]\n"
     ]
    }
   ],
   "source": [
    " "
   ]
  },
  {
   "cell_type": "code",
   "execution_count": 26,
   "id": "662dce9e",
   "metadata": {},
   "outputs": [
    {
     "name": "stdout",
     "output_type": "stream",
     "text": [
      "List after modifying index 1: [1, 10, 4, 5, 6, 7]\n"
     ]
    }
   ],
   "source": []
  },
  {
   "cell_type": "code",
   "execution_count": 33,
   "id": "b7ddb786",
   "metadata": {},
   "outputs": [
    {
     "name": "stdout",
     "output_type": "stream",
     "text": [
      "Original dictionary: {'name': 'saurav', 'age': 23, 'city': 'Firozabad'}\n"
     ]
    }
   ],
   "source": []
  },
  {
   "cell_type": "code",
   "execution_count": 31,
   "id": "12e3bbee",
   "metadata": {},
   "outputs": [
    {
     "name": "stdout",
     "output_type": "stream",
     "text": [
      "Dictionary after adding occupation: {'name': 'saurav', 'age': 23, 'city': 'firozabad', 'occupation': 'Engineer'}\n"
     ]
    }
   ],
   "source": []
  },
  {
   "cell_type": "code",
   "execution_count": 32,
   "id": "fd5d6545",
   "metadata": {},
   "outputs": [
    {
     "name": "stdout",
     "output_type": "stream",
     "text": [
      "Dictionary after removing age: {'name': 'saurav', 'city': 'firozabad', 'occupation': 'Engineer'}\n"
     ]
    }
   ],
   "source": []
  },
  {
   "cell_type": "code",
   "execution_count": 34,
   "id": "0a9986c5",
   "metadata": {},
   "outputs": [
    {
     "name": "stdout",
     "output_type": "stream",
     "text": [
      "Dictionary after modifying city: {'name': 'saurav', 'age': 23, 'city': 'Agra'}\n"
     ]
    }
   ],
   "source": []
  },
  {
   "cell_type": "code",
   "execution_count": 35,
   "id": "9c562d7b",
   "metadata": {},
   "outputs": [
    {
     "name": "stdout",
     "output_type": "stream",
     "text": [
      "Original set: {1, 2, 3, 4, 5, 6, 7, 8}\n"
     ]
    }
   ],
   "source": []
  },
  {
   "cell_type": "code",
   "execution_count": 36,
   "id": "c2d62859",
   "metadata": {},
   "outputs": [
    {
     "name": "stdout",
     "output_type": "stream",
     "text": [
      "Set after adding 9: {1, 2, 3, 4, 5, 6, 7, 8, 9}\n"
     ]
    }
   ],
   "source": []
  },
  {
   "cell_type": "code",
   "execution_count": 37,
   "id": "782f22bf",
   "metadata": {},
   "outputs": [
    {
     "name": "stdout",
     "output_type": "stream",
     "text": [
      "Set after removing 3: {1, 2, 4, 5, 6, 7, 8, 9}\n"
     ]
    }
   ],
   "source": []
  },
  {
   "cell_type": "code",
   "execution_count": null,
   "id": "da7ecb7d",
   "metadata": {},
   "outputs": [],
   "source": []
  }
 ],
 "metadata": {
  "kernelspec": {
   "display_name": "Python 3 (ipykernel)",
   "language": "python",
   "name": "python3"
  },
  "language_info": {
   "codemirror_mode": {
    "name": "ipython",
    "version": 3
   },
   "file_extension": ".py",
   "mimetype": "text/x-python",
   "name": "python",
   "nbconvert_exporter": "python",
   "pygments_lexer": "ipython3",
   "version": "3.11.5"
  }
 },
 "nbformat": 4,
 "nbformat_minor": 5
}
